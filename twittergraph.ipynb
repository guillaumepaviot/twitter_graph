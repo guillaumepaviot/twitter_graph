{
 "cells": [
  {
   "cell_type": "code",
   "execution_count": null,
   "metadata": {},
   "outputs": [],
   "source": [
    "import tweepy as tp\n",
    "import pandas as pd\n",
    "import numpy as np\n",
    "import matplotlib.pyplot as plt\n",
    "import configparser\n",
    "import codecs"
   ]
  },
  {
   "cell_type": "code",
   "execution_count": null,
   "metadata": {},
   "outputs": [],
   "source": [
    "#Get your tokens on the developper portal and store it in a config.ini file\n",
    "config = configparser.RawConfigParser()\n",
    "config.read(\"config.ini\")\n",
    "bearer_token = config['twitter']['bearer_token']"
   ]
  },
  {
   "cell_type": "code",
   "execution_count": null,
   "metadata": {},
   "outputs": [],
   "source": [
    "#Initializing the client\n",
    "client = tp.Client(bearer_token=bearer_token, wait_on_rate_limit=True)"
   ]
  },
  {
   "cell_type": "code",
   "execution_count": null,
   "metadata": {},
   "outputs": [],
   "source": [
    "#Setting up the query\n",
    "keywords = 'your query'\n",
    "\n",
    "#Retrieving the data\n",
    "data= []\n",
    "for tweets in tp.Paginator(client.search_recent_tweets, query=keywords,\n",
    "                              max_results = 10,\n",
    "    since_id=1546863444284030977,\n",
    "    tweet_fields = ['id', 'author_id','created_at','text','entities'],\n",
    "    user_fields = ['name','username','id', 'public_metrics'],\n",
    "    expansions = ['author_id']):\n",
    "    for tweet, user in zip(tweets.data, tweets.includes['users']) : \n",
    "        try :\n",
    "            data.append([tweet.id, user.id, tweet.created_at, tweet.text, tweet.entities['mentions'], user.name, user.username, user.public_metrics['followers_count']])\n",
    "        except:\n",
    "            pass\n",
    "\n",
    "#Turn it into a daraframe\n",
    "columns = ['tweet_id', 'author_id','created_at','text','mentions', 'name','username', 'followers']\n",
    "\n",
    "df = pd.DataFrame(data, columns=columns)\n",
    "df"
   ]
  },
  {
   "cell_type": "code",
   "execution_count": null,
   "metadata": {},
   "outputs": [],
   "source": [
    "#Store the data\n",
    "df.to_csv('twitterapi.csv', encoding='utf-8', index=False)"
   ]
  },
  {
   "cell_type": "code",
   "execution_count": null,
   "metadata": {},
   "outputs": [],
   "source": [
    "#Making the edges dataset\n",
    "edges = df[['username', 'mentions','created_at']]\n",
    "edges.columns = ['Source', 'Target', 'Weight']\n",
    "edges['Target'] = edges['Target'].apply(lambda x : [x.split(\"'\")[7+i*12] for i in range(len(x.split(\"'\"))//12)])\n",
    "edges = edges.explode('Target')\n",
    "edges = edges.groupby(['Source','Target'])['Weight'].count()\n",
    "edges.to_csv('edges.csv', encoding='utf-8', index=False)"
   ]
  },
  {
   "cell_type": "code",
   "execution_count": null,
   "metadata": {},
   "outputs": [],
   "source": [
    "#Making the nodes dataset\n",
    "users = df[['username','followers']]\n",
    "\n",
    "ids = edges['Source'].append(edges['Target']).to_frame()\n",
    "ids['Label'] = ids\n",
    "ids.columns = ['username', 'Label']\n",
    "ids = ids.drop_duplicates(['username'], keep='first') \n",
    "nodes = pd.merge(ids, users, on='username', how='left')\n",
    "nodes = nodes.drop_duplicates(['username'], keep='first') \n",
    "\n",
    "#The targets mentionned in tweets don't have the follower count in their data so we scrape it\n",
    "nodesnull = nodes[nodes.followers.isna()]\n",
    "usernames = nodesnull['username'].to_list()\n",
    "\n",
    "follower_count =[]\n",
    "\n",
    "for user in usernames:\n",
    "    try :\n",
    "        follower_count.append(client.get_user(username=user,user_fields='public_metrics').data.public_metrics['followers_count'])\n",
    "    except:\n",
    "        follower_count.append(0)\n",
    "\n",
    "nodesnull.loc[nodesnull['followers'].isna(), 'followers'] = follower_count\n",
    "nodes.loc[nodes['followers'].isna(), 'followers'] = follower_count\n",
    "nodes = nodes.reset_index()\n",
    "nodes = nodes[['username', 'Label', 'followers']]\n",
    "nodes.columns = ['Id', 'Label', 'followers']\n",
    "nodes.to_csv('nodes.csv', encoding='utf-8', index=False)"
   ]
  }
 ],
 "metadata": {
  "kernelspec": {
   "display_name": "Python (conda)",
   "language": "python",
   "name": "python3"
  },
  "language_info": {
   "name": "python",
   "version": ""
  },
  "orig_nbformat": 4,
  "vscode": {
   "interpreter": {
    "hash": "25a19fbe0a9132dfb9279d48d161753c6352f8f9478c2e74383d340069b907c3"
   }
  }
 },
 "nbformat": 4,
 "nbformat_minor": 2
}
